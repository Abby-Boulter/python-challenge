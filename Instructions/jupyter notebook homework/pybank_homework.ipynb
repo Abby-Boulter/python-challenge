{
 "cells": [
  {
   "cell_type": "code",
   "execution_count": 1,
   "id": "1cbeebc9",
   "metadata": {},
   "outputs": [],
   "source": [
    "#imports\n",
    "\n",
    "import os\n",
    "import csv"
   ]
  },
  {
   "cell_type": "code",
   "execution_count": 2,
   "id": "e929eec0",
   "metadata": {},
   "outputs": [
    {
     "data": {
      "text/plain": [
       "'Resources/budget_data.csv'"
      ]
     },
     "execution_count": 2,
     "metadata": {},
     "output_type": "execute_result"
    }
   ],
   "source": [
    "#create path\n",
    "\n",
    "budgetpath = os.path.join('Resources','budget_data.csv')\n",
    "budgetpath"
   ]
  },
  {
   "cell_type": "code",
   "execution_count": 3,
   "id": "82240bf8",
   "metadata": {},
   "outputs": [
    {
     "name": "stdout",
     "output_type": "stream",
     "text": [
      "<_csv.reader object at 0x7fe852082a50>\n",
      "Header: ['Date', 'Profit/Losses']\n",
      "['Jan-10', '1088983']\n",
      "['Feb-10', '-354534']\n",
      "['Mar-10', '276622']\n",
      "['Apr-10', '-728133']\n",
      "['May-10', '852993']\n",
      "['Jun-10', '563721']\n",
      "['Jul-10', '-535208']\n",
      "['Aug-10', '632349']\n",
      "['Sep-10', '-173744']\n",
      "['Oct-10', '950741']\n",
      "['Nov-10', '-785750']\n",
      "['Dec-10', '-1194133']\n",
      "['Jan-11', '-589576']\n",
      "['Feb-11', '-883921']\n",
      "['Mar-11', '443564']\n",
      "['Apr-11', '837887']\n",
      "['May-11', '1081472']\n",
      "['Jun-11', '464033']\n",
      "['Jul-11', '-1066544']\n",
      "['Aug-11', '323846']\n",
      "['Sep-11', '-806551']\n",
      "['Oct-11', '487053']\n",
      "['Nov-11', '1128811']\n",
      "['Dec-11', '791398']\n",
      "['Jan-12', '739367']\n",
      "['Feb-12', '-197825']\n",
      "['Mar-12', '666016']\n",
      "['Apr-12', '589771']\n",
      "['May-12', '489290']\n",
      "['Jun-12', '-471439']\n",
      "['Jul-12', '120417']\n",
      "['Aug-12', '175347']\n",
      "['Sep-12', '855449']\n",
      "['Oct-12', '605195']\n",
      "['Nov-12', '-235220']\n",
      "['Dec-12', '347138']\n",
      "['Jan-13', '298510']\n",
      "['Feb-13', '163254']\n",
      "['Mar-13', '1141840']\n",
      "['Apr-13', '542630']\n",
      "['May-13', '99841']\n",
      "['Jun-13', '752765']\n",
      "['Jul-13', '-252949']\n",
      "['Aug-13', '914424']\n",
      "['Sep-13', '679524']\n",
      "['Oct-13', '514377']\n",
      "['Nov-13', '462102']\n",
      "['Dec-13', '159782']\n",
      "['Jan-14', '878810']\n",
      "['Feb-14', '-946748']\n",
      "['Mar-14', '340335']\n",
      "['Apr-14', '292032']\n",
      "['May-14', '502266']\n",
      "['Jun-14', '265852']\n",
      "['Jul-14', '851017']\n",
      "['Aug-14', '-549615']\n",
      "['Sep-14', '290162']\n",
      "['Oct-14', '755391']\n",
      "['Nov-14', '1073202']\n",
      "['Dec-14', '313000']\n",
      "['Jan-15', '241132']\n",
      "['Feb-15', '1036589']\n",
      "['Mar-15', '853904']\n",
      "['Apr-15', '-388932']\n",
      "['May-15', '982952']\n",
      "['Jun-15', '537759']\n",
      "['Jul-15', '547784']\n",
      "['Aug-15', '-496214']\n",
      "['Sep-15', '854181']\n",
      "['Oct-15', '934719']\n",
      "['Nov-15', '-288531']\n",
      "['Dec-15', '-184383']\n",
      "['Jan-16', '659541']\n",
      "['Feb-16', '-1149123']\n",
      "['Mar-16', '355882']\n",
      "['Apr-16', '662284']\n",
      "['May-16', '518681']\n",
      "['Jun-16', '-748256']\n",
      "['Jul-16', '-910775']\n",
      "['Aug-16', '951227']\n",
      "['Sep-16', '898241']\n",
      "['Oct-16', '-729004']\n",
      "['Nov-16', '-112209']\n",
      "['Dec-16', '516313']\n",
      "['Jan-17', '607208']\n",
      "['Feb-17', '382539']\n"
     ]
    }
   ],
   "source": [
    "#Print Data\n",
    "\n",
    "with open(budgetpath) as csvfile:\n",
    "    \n",
    "    budgetreader = csv.reader(csvfile, delimiter=\",\")\n",
    "    \n",
    "    print(budgetreader)\n",
    "    budget_header = next(budgetreader)\n",
    "    print(f\"Header: {budget_header}\")\n",
    "\n",
    "    for row in budgetreader:\n",
    "        \n",
    "        print(row)"
   ]
  },
  {
   "cell_type": "code",
   "execution_count": 4,
   "id": "718222f2",
   "metadata": {},
   "outputs": [
    {
     "name": "stdout",
     "output_type": "stream",
     "text": [
      "86\n"
     ]
    }
   ],
   "source": [
    "#total months\n",
    "\n",
    "with open(budgetpath) as csvfile:\n",
    "    \n",
    "    budgetreader = csv.reader(csvfile, delimiter=\",\")\n",
    "\n",
    "    for row in budgetreader:\n",
    "        \n",
    "        total_months = sum(1 for row in budgetreader)\n",
    "        \n",
    "        print(total_months)"
   ]
  },
  {
   "cell_type": "code",
   "execution_count": 5,
   "id": "d5e4e2a3",
   "metadata": {},
   "outputs": [
    {
     "name": "stdout",
     "output_type": "stream",
     "text": [
      "22564198\n"
     ]
    }
   ],
   "source": [
    "#net total profit/losses\n",
    "\n",
    "with open(budgetpath) as csvfile:\n",
    "    total = 0\n",
    "    sum_ = []\n",
    "    budgetreader = csv.reader(csvfile, delimiter=\",\")\n",
    "    budget_header = next(budgetreader)\n",
    "    \n",
    "    for row in budgetreader:\n",
    "        \n",
    "        sum_.append(int(row[1]))\n",
    "        \n",
    "        total = sum(sum_)\n",
    "        \n",
    "print(total)\n"
   ]
  },
  {
   "cell_type": "code",
   "execution_count": 6,
   "id": "8399a099",
   "metadata": {},
   "outputs": [
    {
     "name": "stdout",
     "output_type": "stream",
     "text": [
      "4448.13\n",
      "['Aug-16', 1862002.0]\n",
      "['Feb-14', -1825558.0]\n"
     ]
    }
   ],
   "source": [
    "#get changes and increase/decrease\n",
    "with open(budgetpath) as csvfile:\n",
    "    \n",
    "    prev_amt = 0\n",
    "    change_amt = 0\n",
    "    change = []\n",
    "    month = []\n",
    "    incr = [\"\", 0]\n",
    "    decr = [\"\", 9999999]\n",
    "    \n",
    "    \n",
    "    budgetreader = csv.reader(csvfile, delimiter=\",\")\n",
    "    budget_header = next(budgetreader)\n",
    "    \n",
    "    for row in budgetreader:\n",
    "    #data to avg changes\n",
    "        change_amt = float(row[1]) - prev_amt\n",
    "        prev_amt = float(row[1])\n",
    "        change = change + [change_amt]\n",
    "        \n",
    "    #date and amount for increase\n",
    "        if change_amt>incr[1]:\n",
    "            incr[1]= change_amt\n",
    "            incr[0] = row[0]\n",
    "\n",
    "    #date and amount for decrease\n",
    "        if change_amt<decr[1]:\n",
    "            decr[1]= change_amt\n",
    "            decr[0] = row[0]\n",
    "    \n",
    "    #average of changes\n",
    "    avg_change = sum(change)/len(change)\n",
    "\n",
    "avg_change = round(avg_change, 2)\n",
    "\n",
    "print(avg_change)\n",
    "print(incr)\n",
    "print(decr)\n"
   ]
  },
  {
   "cell_type": "code",
   "execution_count": 7,
   "id": "4ce64131",
   "metadata": {},
   "outputs": [
    {
     "name": "stdout",
     "output_type": "stream",
     "text": [
      "Financial Analysis\n",
      "--------------------------------\n",
      "Total Months: 86\n",
      "Total: $ 22564198\n",
      "Average Change:$ 4448.13\n",
      "Greatest Increase in Profits: Aug-16  ($ 1862002.0 )\n",
      "Greatest Decrease in Profits: Feb-14  ($ -1825558.0 )\n"
     ]
    }
   ],
   "source": [
    "#Print final results\n",
    "print('Financial Analysis')\n",
    "print('--------------------------------')\n",
    "print(f'Total Months:', total_months)\n",
    "print('Total: $',total)\n",
    "print('Average Change:$',avg_change)\n",
    "print('Greatest Increase in Profits:', incr[0],' ($',incr[1],')')\n",
    "print('Greatest Decrease in Profits:', decr[0],' ($',decr[1],')')"
   ]
  },
  {
   "cell_type": "code",
   "execution_count": 10,
   "id": "01566a5a",
   "metadata": {},
   "outputs": [],
   "source": [
    "# save the output file path\n",
    "output_file = os.path.join(\"Analysis\",\"pybank.txt\")"
   ]
  },
  {
   "cell_type": "code",
   "execution_count": 11,
   "id": "a12a538a",
   "metadata": {},
   "outputs": [],
   "source": [
    "# open the output file, create a header row, and then write the data to the txt file\n",
    "with open(output_file, \"w\") as datafile:\n",
    "    writer = csv.writer(datafile)\n",
    "\n",
    "    writer.writerow([\"Financial Analysis\"])\n",
    "    writer.writerow([\"--------------------------------\"])\n",
    "    writer.writerow([\"Total Months: 86\"])\n",
    "    writer.writerow([\"Total: $ 22564198\"])\n",
    "    writer.writerow([\"Average Change:$ 4448.13\"])\n",
    "    writer.writerow([\"Greatest Increase in Profits: Aug-16  ($ 1862002.0 )\"])\n",
    "    writer.writerow([\"Greatest Decrease in Profits: Feb-14  ($ -1825558.0 )\"])"
   ]
  },
  {
   "cell_type": "code",
   "execution_count": null,
   "id": "f669d0bd",
   "metadata": {},
   "outputs": [],
   "source": []
  }
 ],
 "metadata": {
  "kernelspec": {
   "display_name": "Python 3 (ipykernel)",
   "language": "python",
   "name": "python3"
  },
  "language_info": {
   "codemirror_mode": {
    "name": "ipython",
    "version": 3
   },
   "file_extension": ".py",
   "mimetype": "text/x-python",
   "name": "python",
   "nbconvert_exporter": "python",
   "pygments_lexer": "ipython3",
   "version": "3.9.13"
  }
 },
 "nbformat": 4,
 "nbformat_minor": 5
}
