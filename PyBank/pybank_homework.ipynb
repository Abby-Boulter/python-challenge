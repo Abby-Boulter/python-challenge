{
 "cells": [
  {
   "cell_type": "code",
   "execution_count": 1,
   "id": "1cbeebc9",
   "metadata": {},
   "outputs": [],
   "source": [
    "import os\n",
    "import csv"
   ]
  },
  {
   "cell_type": "code",
   "execution_count": 2,
   "id": "e929eec0",
   "metadata": {},
   "outputs": [
    {
     "data": {
      "text/plain": [
       "'Resources/budget_data.csv'"
      ]
     },
     "execution_count": 2,
     "metadata": {},
     "output_type": "execute_result"
    }
   ],
   "source": [
    "budgetpath = os.path.join('Resources','budget_data.csv')\n",
    "budgetpath"
   ]
  },
  {
   "cell_type": "code",
   "execution_count": 44,
   "id": "82240bf8",
   "metadata": {},
   "outputs": [
    {
     "name": "stdout",
     "output_type": "stream",
     "text": [
      "<_csv.reader object at 0x7fd608022580>\n",
      "Header: ['Date', 'Profit/Losses']\n",
      "['Jan-10', '1088983']\n",
      "['Feb-10', '-354534']\n",
      "['Mar-10', '276622']\n",
      "['Apr-10', '-728133']\n",
      "['May-10', '852993']\n",
      "['Jun-10', '563721']\n",
      "['Jul-10', '-535208']\n",
      "['Aug-10', '632349']\n",
      "['Sep-10', '-173744']\n",
      "['Oct-10', '950741']\n",
      "['Nov-10', '-785750']\n",
      "['Dec-10', '-1194133']\n",
      "['Jan-11', '-589576']\n",
      "['Feb-11', '-883921']\n",
      "['Mar-11', '443564']\n",
      "['Apr-11', '837887']\n",
      "['May-11', '1081472']\n",
      "['Jun-11', '464033']\n",
      "['Jul-11', '-1066544']\n",
      "['Aug-11', '323846']\n",
      "['Sep-11', '-806551']\n",
      "['Oct-11', '487053']\n",
      "['Nov-11', '1128811']\n",
      "['Dec-11', '791398']\n",
      "['Jan-12', '739367']\n",
      "['Feb-12', '-197825']\n",
      "['Mar-12', '666016']\n",
      "['Apr-12', '589771']\n",
      "['May-12', '489290']\n",
      "['Jun-12', '-471439']\n",
      "['Jul-12', '120417']\n",
      "['Aug-12', '175347']\n",
      "['Sep-12', '855449']\n",
      "['Oct-12', '605195']\n",
      "['Nov-12', '-235220']\n",
      "['Dec-12', '347138']\n",
      "['Jan-13', '298510']\n",
      "['Feb-13', '163254']\n",
      "['Mar-13', '1141840']\n",
      "['Apr-13', '542630']\n",
      "['May-13', '99841']\n",
      "['Jun-13', '752765']\n",
      "['Jul-13', '-252949']\n",
      "['Aug-13', '914424']\n",
      "['Sep-13', '679524']\n",
      "['Oct-13', '514377']\n",
      "['Nov-13', '462102']\n",
      "['Dec-13', '159782']\n",
      "['Jan-14', '878810']\n",
      "['Feb-14', '-946748']\n",
      "['Mar-14', '340335']\n",
      "['Apr-14', '292032']\n",
      "['May-14', '502266']\n",
      "['Jun-14', '265852']\n",
      "['Jul-14', '851017']\n",
      "['Aug-14', '-549615']\n",
      "['Sep-14', '290162']\n",
      "['Oct-14', '755391']\n",
      "['Nov-14', '1073202']\n",
      "['Dec-14', '313000']\n",
      "['Jan-15', '241132']\n",
      "['Feb-15', '1036589']\n",
      "['Mar-15', '853904']\n",
      "['Apr-15', '-388932']\n",
      "['May-15', '982952']\n",
      "['Jun-15', '537759']\n",
      "['Jul-15', '547784']\n",
      "['Aug-15', '-496214']\n",
      "['Sep-15', '854181']\n",
      "['Oct-15', '934719']\n",
      "['Nov-15', '-288531']\n",
      "['Dec-15', '-184383']\n",
      "['Jan-16', '659541']\n",
      "['Feb-16', '-1149123']\n",
      "['Mar-16', '355882']\n",
      "['Apr-16', '662284']\n",
      "['May-16', '518681']\n",
      "['Jun-16', '-748256']\n",
      "['Jul-16', '-910775']\n",
      "['Aug-16', '951227']\n",
      "['Sep-16', '898241']\n",
      "['Oct-16', '-729004']\n",
      "['Nov-16', '-112209']\n",
      "['Dec-16', '516313']\n",
      "['Jan-17', '607208']\n",
      "['Feb-17', '382539']\n"
     ]
    }
   ],
   "source": [
    "with open(budgetpath) as csvfile:\n",
    "    \n",
    "    budgetreader = csv.reader(csvfile, delimiter=\",\")\n",
    "    \n",
    "    print(budgetreader)\n",
    "    budget_header = next(budgetreader)\n",
    "    print(f\"Header: {budget_header}\")\n",
    "\n",
    "    for row in budgetreader:\n",
    "        \n",
    "        print(row)"
   ]
  },
  {
   "cell_type": "code",
   "execution_count": 4,
   "id": "718222f2",
   "metadata": {},
   "outputs": [
    {
     "name": "stdout",
     "output_type": "stream",
     "text": [
      "86\n"
     ]
    }
   ],
   "source": [
    "with open(budgetpath) as csvfile:\n",
    "    \n",
    "    budgetreader = csv.reader(csvfile, delimiter=\",\")\n",
    "\n",
    "    for row in budgetreader:\n",
    "        \n",
    "        total_months = sum(1 for row in budgetreader)\n",
    "        \n",
    "        print(total_months)"
   ]
  },
  {
   "cell_type": "code",
   "execution_count": 43,
   "id": "d5e4e2a3",
   "metadata": {},
   "outputs": [
    {
     "name": "stdout",
     "output_type": "stream",
     "text": [
      "22564198\n"
     ]
    }
   ],
   "source": [
    "\n",
    "with open(budgetpath) as csvfile:\n",
    "    total = 0\n",
    "    sum_ = []\n",
    "    budgetreader = csv.reader(csvfile, delimiter=\",\")\n",
    "    budget_header = next(budgetreader)\n",
    "    \n",
    "    for row in budgetreader:\n",
    "        \n",
    "        sum_.append(int(row[1]))\n",
    "        \n",
    "        total = sum(sum_)\n",
    "        \n",
    "print(total)\n"
   ]
  },
  {
   "cell_type": "code",
   "execution_count": 58,
   "id": "8399a099",
   "metadata": {},
   "outputs": [
    {
     "name": "stdout",
     "output_type": "stream",
     "text": [
      "[1088983, -354534, 276622, -728133, 852993, 563721, -535208, 632349, -173744, 950741, -785750, -1194133, -589576, -883921, 443564, 837887, 1081472, 464033, -1066544, 323846, -806551, 487053, 1128811, 791398, 739367, -197825, 666016, 589771, 489290, -471439, 120417, 175347, 855449, 605195, -235220, 347138, 298510, 163254, 1141840, 542630, 99841, 752765, -252949, 914424, 679524, 514377, 462102, 159782, 878810, -946748, 340335, 292032, 502266, 265852, 851017, -549615, 290162, 755391, 1073202, 313000, 241132, 1036589, 853904, -388932, 982952, 537759, 547784, -496214, 854181, 934719, -288531, -184383, 659541, -1149123, 355882, 662284, 518681, -748256, -910775, 951227, 898241, -729004, -112209, 516313, 607208, 382539]\n"
     ]
    }
   ],
   "source": [
    "change = []\n",
    "for row in sum_:\n",
    "    difference = row\n",
    "    change.append(difference)\n",
    "    \n",
    "print(change)\n"
   ]
  },
  {
   "cell_type": "code",
   "execution_count": 52,
   "id": "6761eddc",
   "metadata": {},
   "outputs": [
    {
     "data": {
      "text/plain": [
       "[1088983,\n",
       " -354534,\n",
       " 276622,\n",
       " -728133,\n",
       " 852993,\n",
       " 563721,\n",
       " -535208,\n",
       " 632349,\n",
       " -173744,\n",
       " 950741,\n",
       " -785750,\n",
       " -1194133,\n",
       " -589576,\n",
       " -883921,\n",
       " 443564,\n",
       " 837887,\n",
       " 1081472,\n",
       " 464033,\n",
       " -1066544,\n",
       " 323846,\n",
       " -806551,\n",
       " 487053,\n",
       " 1128811,\n",
       " 791398,\n",
       " 739367,\n",
       " -197825,\n",
       " 666016,\n",
       " 589771,\n",
       " 489290,\n",
       " -471439,\n",
       " 120417,\n",
       " 175347,\n",
       " 855449,\n",
       " 605195,\n",
       " -235220,\n",
       " 347138,\n",
       " 298510,\n",
       " 163254,\n",
       " 1141840,\n",
       " 542630,\n",
       " 99841,\n",
       " 752765,\n",
       " -252949,\n",
       " 914424,\n",
       " 679524,\n",
       " 514377,\n",
       " 462102,\n",
       " 159782,\n",
       " 878810,\n",
       " -946748,\n",
       " 340335,\n",
       " 292032,\n",
       " 502266,\n",
       " 265852,\n",
       " 851017,\n",
       " -549615,\n",
       " 290162,\n",
       " 755391,\n",
       " 1073202,\n",
       " 313000,\n",
       " 241132,\n",
       " 1036589,\n",
       " 853904,\n",
       " -388932,\n",
       " 982952,\n",
       " 537759,\n",
       " 547784,\n",
       " -496214,\n",
       " 854181,\n",
       " 934719,\n",
       " -288531,\n",
       " -184383,\n",
       " 659541,\n",
       " -1149123,\n",
       " 355882,\n",
       " 662284,\n",
       " 518681,\n",
       " -748256,\n",
       " -910775,\n",
       " 951227,\n",
       " 898241,\n",
       " -729004,\n",
       " -112209,\n",
       " 516313,\n",
       " 607208,\n",
       " 382539]"
      ]
     },
     "execution_count": 52,
     "metadata": {},
     "output_type": "execute_result"
    }
   ],
   "source": [
    "sum_"
   ]
  },
  {
   "cell_type": "code",
   "execution_count": null,
   "id": "a3bf2825",
   "metadata": {},
   "outputs": [],
   "source": []
  }
 ],
 "metadata": {
  "kernelspec": {
   "display_name": "Python 3 (ipykernel)",
   "language": "python",
   "name": "python3"
  },
  "language_info": {
   "codemirror_mode": {
    "name": "ipython",
    "version": 3
   },
   "file_extension": ".py",
   "mimetype": "text/x-python",
   "name": "python",
   "nbconvert_exporter": "python",
   "pygments_lexer": "ipython3",
   "version": "3.9.13"
  }
 },
 "nbformat": 4,
 "nbformat_minor": 5
}
