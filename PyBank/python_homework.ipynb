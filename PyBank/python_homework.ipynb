{
 "cells": [
  {
   "cell_type": "code",
   "execution_count": 1,
   "id": "1cbeebc9",
   "metadata": {},
   "outputs": [],
   "source": [
    "import os\n",
    "import csv"
   ]
  },
  {
   "cell_type": "code",
   "execution_count": 3,
   "id": "e929eec0",
   "metadata": {},
   "outputs": [
    {
     "data": {
      "text/plain": [
       "'Resources/budget_data.csv'"
      ]
     },
     "execution_count": 3,
     "metadata": {},
     "output_type": "execute_result"
    }
   ],
   "source": [
    "budgetpath = os.path.join('Resources','budget_data.csv')\n",
    "budgetpath"
   ]
  },
  {
   "cell_type": "code",
   "execution_count": 24,
   "id": "82240bf8",
   "metadata": {},
   "outputs": [
    {
     "name": "stdout",
     "output_type": "stream",
     "text": [
      "<_csv.reader object at 0x7fdf71bb0970>\n",
      "Header: ['Date', 'Profit/Losses']\n",
      "['Jan-10', '1088983']\n",
      "['Feb-10', '-354534']\n",
      "['Mar-10', '276622']\n",
      "['Apr-10', '-728133']\n",
      "['May-10', '852993']\n",
      "['Jun-10', '563721']\n",
      "['Jul-10', '-535208']\n",
      "['Aug-10', '632349']\n",
      "['Sep-10', '-173744']\n",
      "['Oct-10', '950741']\n",
      "['Nov-10', '-785750']\n",
      "['Dec-10', '-1194133']\n",
      "['Jan-11', '-589576']\n",
      "['Feb-11', '-883921']\n",
      "['Mar-11', '443564']\n",
      "['Apr-11', '837887']\n",
      "['May-11', '1081472']\n",
      "['Jun-11', '464033']\n",
      "['Jul-11', '-1066544']\n",
      "['Aug-11', '323846']\n",
      "['Sep-11', '-806551']\n",
      "['Oct-11', '487053']\n",
      "['Nov-11', '1128811']\n",
      "['Dec-11', '791398']\n",
      "['Jan-12', '739367']\n",
      "['Feb-12', '-197825']\n",
      "['Mar-12', '666016']\n",
      "['Apr-12', '589771']\n",
      "['May-12', '489290']\n",
      "['Jun-12', '-471439']\n",
      "['Jul-12', '120417']\n",
      "['Aug-12', '175347']\n",
      "['Sep-12', '855449']\n",
      "['Oct-12', '605195']\n",
      "['Nov-12', '-235220']\n",
      "['Dec-12', '347138']\n",
      "['Jan-13', '298510']\n",
      "['Feb-13', '163254']\n",
      "['Mar-13', '1141840']\n",
      "['Apr-13', '542630']\n",
      "['May-13', '99841']\n",
      "['Jun-13', '752765']\n",
      "['Jul-13', '-252949']\n",
      "['Aug-13', '914424']\n",
      "['Sep-13', '679524']\n",
      "['Oct-13', '514377']\n",
      "['Nov-13', '462102']\n",
      "['Dec-13', '159782']\n",
      "['Jan-14', '878810']\n",
      "['Feb-14', '-946748']\n",
      "['Mar-14', '340335']\n",
      "['Apr-14', '292032']\n",
      "['May-14', '502266']\n",
      "['Jun-14', '265852']\n",
      "['Jul-14', '851017']\n",
      "['Aug-14', '-549615']\n",
      "['Sep-14', '290162']\n",
      "['Oct-14', '755391']\n",
      "['Nov-14', '1073202']\n",
      "['Dec-14', '313000']\n",
      "['Jan-15', '241132']\n",
      "['Feb-15', '1036589']\n",
      "['Mar-15', '853904']\n",
      "['Apr-15', '-388932']\n",
      "['May-15', '982952']\n",
      "['Jun-15', '537759']\n",
      "['Jul-15', '547784']\n",
      "['Aug-15', '-496214']\n",
      "['Sep-15', '854181']\n",
      "['Oct-15', '934719']\n",
      "['Nov-15', '-288531']\n",
      "['Dec-15', '-184383']\n",
      "['Jan-16', '659541']\n",
      "['Feb-16', '-1149123']\n",
      "['Mar-16', '355882']\n",
      "['Apr-16', '662284']\n",
      "['May-16', '518681']\n",
      "['Jun-16', '-748256']\n",
      "['Jul-16', '-910775']\n",
      "['Aug-16', '951227']\n",
      "['Sep-16', '898241']\n",
      "['Oct-16', '-729004']\n",
      "['Nov-16', '-112209']\n",
      "['Dec-16', '516313']\n",
      "['Jan-17', '607208']\n",
      "['Feb-17', '382539']\n"
     ]
    }
   ],
   "source": [
    "with open(budgetpath) as csvfile:\n",
    "    \n",
    "    budgetreader = csv.reader(csvfile, delimiter=\",\")\n",
    "    \n",
    "    print(budgetreader)\n",
    "    budget_header = next(budgetreader)\n",
    "    print(f\"Header: {budget_header}\")\n",
    "\n",
    "    for row in budgetreader:\n",
    "        \n",
    "        print(row)"
   ]
  },
  {
   "cell_type": "code",
   "execution_count": 25,
   "id": "718222f2",
   "metadata": {},
   "outputs": [
    {
     "name": "stdout",
     "output_type": "stream",
     "text": [
      "86\n"
     ]
    }
   ],
   "source": [
    "with open(budgetpath) as csvfile:\n",
    "    \n",
    "    budgetreader = csv.reader(csvfile, delimiter=\",\")\n",
    "\n",
    "    for row in budgetreader:\n",
    "        \n",
    "        total_months = sum(1 for row in budgetreader)\n",
    "        \n",
    "        print(total_months)"
   ]
  },
  {
   "cell_type": "code",
   "execution_count": 40,
   "id": "d5e4e2a3",
   "metadata": {},
   "outputs": [
    {
     "ename": "AttributeError",
     "evalue": "'list' object has no attribute 'split'",
     "output_type": "error",
     "traceback": [
      "\u001b[0;31m---------------------------------------------------------------------------\u001b[0m",
      "\u001b[0;31mAttributeError\u001b[0m                            Traceback (most recent call last)",
      "\u001b[0;32m/var/folders/tz/cfyzxyv5373bmw54nrr77f4h0000gn/T/ipykernel_15790/1256123346.py\u001b[0m in \u001b[0;36m<module>\u001b[0;34m\u001b[0m\n\u001b[1;32m      7\u001b[0m     \u001b[0;32mfor\u001b[0m \u001b[0mrow\u001b[0m \u001b[0;32min\u001b[0m \u001b[0mbudgetreader\u001b[0m\u001b[0;34m:\u001b[0m\u001b[0;34m\u001b[0m\u001b[0;34m\u001b[0m\u001b[0m\n\u001b[1;32m      8\u001b[0m \u001b[0;34m\u001b[0m\u001b[0m\n\u001b[0;32m----> 9\u001b[0;31m         \u001b[0mcolumns\u001b[0m \u001b[0;34m=\u001b[0m \u001b[0mrow\u001b[0m\u001b[0;34m.\u001b[0m\u001b[0msplit\u001b[0m\u001b[0;34m(\u001b[0m\u001b[0;34m','\u001b[0m\u001b[0;34m)\u001b[0m\u001b[0;34m\u001b[0m\u001b[0;34m\u001b[0m\u001b[0m\n\u001b[0m\u001b[1;32m     10\u001b[0m         \u001b[0msum_\u001b[0m \u001b[0;34m+=\u001b[0m \u001b[0mcolumns\u001b[0m\u001b[0;34m[\u001b[0m\u001b[0mi\u001b[0m\u001b[0;34m]\u001b[0m\u001b[0;34m\u001b[0m\u001b[0;34m\u001b[0m\u001b[0m\n\u001b[1;32m     11\u001b[0m \u001b[0;34m\u001b[0m\u001b[0m\n",
      "\u001b[0;31mAttributeError\u001b[0m: 'list' object has no attribute 'split'"
     ]
    }
   ],
   "source": [
    "sum_=0\n",
    "with open(budgetpath) as csvfile:\n",
    "    \n",
    "    budgetreader = csv.reader(csvfile, delimiter=\",\")\n",
    "    budget_header = next(budgetreader)\n",
    "    \n",
    "    for row in budgetreader:\n",
    "        \n",
    "        print(sum_)"
   ]
  },
  {
   "cell_type": "code",
   "execution_count": null,
   "id": "8399a099",
   "metadata": {},
   "outputs": [],
   "source": []
  }
 ],
 "metadata": {
  "kernelspec": {
   "display_name": "Python 3 (ipykernel)",
   "language": "python",
   "name": "python3"
  },
  "language_info": {
   "codemirror_mode": {
    "name": "ipython",
    "version": 3
   },
   "file_extension": ".py",
   "mimetype": "text/x-python",
   "name": "python",
   "nbconvert_exporter": "python",
   "pygments_lexer": "ipython3",
   "version": "3.9.13"
  }
 },
 "nbformat": 4,
 "nbformat_minor": 5
}
