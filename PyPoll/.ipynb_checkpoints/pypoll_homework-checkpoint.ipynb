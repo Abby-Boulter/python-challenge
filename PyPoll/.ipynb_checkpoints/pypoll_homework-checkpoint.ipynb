{
 "cells": [
  {
   "cell_type": "code",
   "execution_count": 33,
   "id": "6e9b6087",
   "metadata": {},
   "outputs": [],
   "source": [
    "import os\n",
    "import csv"
   ]
  },
  {
   "cell_type": "code",
   "execution_count": 34,
   "id": "5b05f80a",
   "metadata": {},
   "outputs": [
    {
     "data": {
      "text/plain": [
       "'Resources/election_data.csv'"
      ]
     },
     "execution_count": 34,
     "metadata": {},
     "output_type": "execute_result"
    }
   ],
   "source": [
    "budgetpath = os.path.join('Resources','election_data.csv')\n",
    "budgetpath"
   ]
  },
  {
   "cell_type": "code",
   "execution_count": 35,
   "id": "f6bfe3b7",
   "metadata": {},
   "outputs": [
    {
     "name": "stdout",
     "output_type": "stream",
     "text": [
      "369711\n"
     ]
    }
   ],
   "source": [
    "#total votes\n",
    "\n",
    "with open(budgetpath) as csvfile:\n",
    "    \n",
    "    budgetreader = csv.reader(csvfile, delimiter=\",\")\n",
    "\n",
    "    for row in budgetreader:\n",
    "        \n",
    "        total_votes = sum(1 for row in budgetreader)\n",
    "        \n",
    "        print(total_votes)"
   ]
  },
  {
   "cell_type": "code",
   "execution_count": 36,
   "id": "72bae461",
   "metadata": {},
   "outputs": [
    {
     "name": "stdout",
     "output_type": "stream",
     "text": [
      "85213 23.049\n"
     ]
    }
   ],
   "source": [
    "#Votes for Charles\n",
    "\n",
    "with open(budgetpath) as csvfile:\n",
    "    char_total = 0\n",
    "\n",
    "    budgetreader = csv.reader(csvfile, delimiter=\",\")\n",
    "\n",
    "    for row in budgetreader:\n",
    "         if row[2] == 'Charles Casper Stockham':\n",
    "                char_total += 1\n",
    "        \n",
    "char_perc = (round(char_total/total_votes * 100, 3))\n",
    "print(char_total, char_perc)"
   ]
  },
  {
   "cell_type": "code",
   "execution_count": 37,
   "id": "fb03be91",
   "metadata": {},
   "outputs": [
    {
     "name": "stdout",
     "output_type": "stream",
     "text": [
      "272892 73.812\n"
     ]
    }
   ],
   "source": [
    "#Votes for Diana\n",
    "\n",
    "with open(budgetpath) as csvfile:\n",
    "    diana_total = 0\n",
    "\n",
    "    budgetreader = csv.reader(csvfile, delimiter=\",\")\n",
    "\n",
    "    for row in budgetreader:\n",
    "         if row[2] == 'Diana DeGette':\n",
    "                diana_total += 1\n",
    "        \n",
    "diana_perc = (round(diana_total/total_votes * 100, 3))\n",
    "print(diana_total, diana_perc)"
   ]
  },
  {
   "cell_type": "code",
   "execution_count": 38,
   "id": "6bb823e5",
   "metadata": {},
   "outputs": [
    {
     "name": "stdout",
     "output_type": "stream",
     "text": [
      "11606 3.139\n"
     ]
    }
   ],
   "source": [
    "#Votes for Raymon\n",
    "\n",
    "with open(budgetpath) as csvfile:\n",
    "    ray_total = 0\n",
    "\n",
    "    budgetreader = csv.reader(csvfile, delimiter=\",\")\n",
    "\n",
    "    for row in budgetreader:\n",
    "         if row[2] == 'Raymon Anthony Doane':\n",
    "                ray_total += 1\n",
    "        \n",
    "ray_perc = (round(ray_total/total_votes * 100, 3))\n",
    "print(ray_total, ray_perc)"
   ]
  },
  {
   "cell_type": "code",
   "execution_count": 40,
   "id": "a4ed2a91",
   "metadata": {},
   "outputs": [
    {
     "name": "stdout",
     "output_type": "stream",
     "text": [
      "Election Results\n",
      "--------------------------------\n",
      "Total Votes: 369711\n",
      "--------------------------------\n",
      "Charles Casper Stockham: 23.049 % ( 85213 )\n",
      "Diana DeGette: 73.812 % ( 272892 )\n",
      "Raymon Anthony Doane: 3.139 % ( 11606 )\n",
      "--------------------------------\n",
      "Winner: Diana DeGette\n",
      "--------------------------------\n"
     ]
    }
   ],
   "source": [
    "#Print final results\n",
    "\n",
    "print('Election Results')\n",
    "print('--------------------------------')\n",
    "print(f'Total Votes:', str(total_votes))\n",
    "print('--------------------------------')\n",
    "print('Charles Casper Stockham:', char_perc,'%', '(',char_total,')')\n",
    "print('Diana DeGette:', diana_perc,'%', '(',diana_total,')')\n",
    "print('Raymon Anthony Doane:', ray_perc,'%', '(',ray_total,')')\n",
    "print('--------------------------------')\n",
    "print('Winner: Diana DeGette')\n",
    "print('--------------------------------')\n"
   ]
  },
  {
   "cell_type": "code",
   "execution_count": 54,
   "id": "677c745d",
   "metadata": {},
   "outputs": [],
   "source": [
    "# save the output file path\n",
    "\n",
    "output_file = os.path.join('Analysis',\"pypoll.txt\")"
   ]
  },
  {
   "cell_type": "code",
   "execution_count": 61,
   "id": "e24ce972",
   "metadata": {},
   "outputs": [],
   "source": [
    "# open the output file, create a header row, and then write the data to the txt file\n",
    "with open(output_file, \"w\") as datafile:\n",
    "    writer = csv.writer(datafile)\n",
    "\n",
    "    writer.writerow([\"Election Results\"])\n",
    "    writer.writerow(['--------------------------------'])\n",
    "    writer.writerow(['Total Votes: 369711'])\n",
    "    writer.writerow(['--------------------------------'])\n",
    "    writer.writerow([f'Charles Casper Stockham: 23.049% (85213)'])\n",
    "    writer.writerow(['Diana DeGette: 73.812% (272892)'])\n",
    "    writer.writerow(['Raymon Anthony Doane: 3.139% (11606)'])\n",
    "    writer.writerow(['--------------------------------'])\n",
    "    writer.writerow(['Winner: Diana DeGette'])\n",
    "    writer.writerow(['--------------------------------'])"
   ]
  },
  {
   "cell_type": "code",
   "execution_count": null,
   "id": "fa8f9590",
   "metadata": {},
   "outputs": [],
   "source": []
  }
 ],
 "metadata": {
  "kernelspec": {
   "display_name": "Python 3 (ipykernel)",
   "language": "python",
   "name": "python3"
  },
  "language_info": {
   "codemirror_mode": {
    "name": "ipython",
    "version": 3
   },
   "file_extension": ".py",
   "mimetype": "text/x-python",
   "name": "python",
   "nbconvert_exporter": "python",
   "pygments_lexer": "ipython3",
   "version": "3.9.13"
  }
 },
 "nbformat": 4,
 "nbformat_minor": 5
}
